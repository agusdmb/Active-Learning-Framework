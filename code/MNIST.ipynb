{
 "cells": [
  {
   "cell_type": "code",
   "execution_count": null,
   "metadata": {},
   "outputs": [],
   "source": [
    "from core import ActiveLearner, Dataset, Oracle\n",
    "from querys import UncertaintySelector, CertaintySelector, RandomSelector"
   ]
  },
  {
   "cell_type": "code",
   "execution_count": null,
   "metadata": {},
   "outputs": [],
   "source": [
    "from sklearn.datasets import load_digits\n",
    "from sklearn.model_selection import train_test_split\n",
    "from sklearn.svm import SVC\n",
    "\n",
    "import numpy as np\n",
    "import matplotlib.pyplot as plt\n",
    "\n",
    "digits = load_digits()\n",
    "X = digits.data\n",
    "y = digits.target\n",
    "X_train, X_test, y_train, y_test = train_test_split(X, y, test_size=0.5)\n",
    "\n",
    "class DigitsOracle(Oracle):\n",
    "    target_names = list(range(10))\n",
    "\n",
    "    def show_element(self, x, r):\n",
    "            plt.gray()\n",
    "            plt.matshow(x)\n",
    "            plt.show()\n",
    "            print(r)\n",
    "\n",
    "class Digits(Dataset):\n",
    "    def get_unlabeled_readable(self, i):\n",
    "        x = self.get_unlabeled()[i]\n",
    "        return x.reshape(8,8)\n",
    "    \n",
    "dataset = Digits(X_train, y_train, X_test)\n",
    "svc = SVC(probability=True)\n",
    "certainty = CertaintySelector()\n",
    "uncertainty = UncertaintySelector()\n",
    "random = RandomSelector()\n",
    "oracle = DigitsOracle()"
   ]
  },
  {
   "cell_type": "code",
   "execution_count": null,
   "metadata": {
    "scrolled": false
   },
   "outputs": [],
   "source": [
    "al = ActiveLearner(svc, dataset, certainty, oracle)"
   ]
  },
  {
   "cell_type": "code",
   "execution_count": null,
   "metadata": {},
   "outputs": [],
   "source": [
    "al.fit()\n",
    "al.get_avg()"
   ]
  },
  {
   "cell_type": "code",
   "execution_count": null,
   "metadata": {
    "scrolled": false
   },
   "outputs": [],
   "source": [
    "selected = al.select(1)\n",
    "y = al.ask(selected)\n",
    "al.tag_elements(selected, y)\n",
    "al.fit()\n",
    "print(al.get_avg())"
   ]
  },
  {
   "cell_type": "code",
   "execution_count": null,
   "metadata": {},
   "outputs": [],
   "source": [
    "al.change_selector(uncertainty)"
   ]
  },
  {
   "cell_type": "code",
   "execution_count": null,
   "metadata": {},
   "outputs": [],
   "source": [
    "al.change_selector(certainty)"
   ]
  },
  {
   "cell_type": "code",
   "execution_count": null,
   "metadata": {},
   "outputs": [],
   "source": []
  }
 ],
 "metadata": {
  "kernelspec": {
   "display_name": "tesis",
   "language": "python",
   "name": "tesis"
  },
  "language_info": {
   "codemirror_mode": {
    "name": "ipython",
    "version": 3
   },
   "file_extension": ".py",
   "mimetype": "text/x-python",
   "name": "python",
   "nbconvert_exporter": "python",
   "pygments_lexer": "ipython3",
   "version": "3.5.3"
  }
 },
 "nbformat": 4,
 "nbformat_minor": 2
}
