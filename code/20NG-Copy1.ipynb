{
 "cells": [
  {
   "cell_type": "markdown",
   "metadata": {},
   "source": [
    "# Active Learner sobre 20 News Groups"
   ]
  },
  {
   "cell_type": "markdown",
   "metadata": {},
   "source": [
    "## Obtengo el dataset desde sklearn"
   ]
  },
  {
   "cell_type": "code",
   "execution_count": null,
   "metadata": {},
   "outputs": [],
   "source": [
    "from sklearn.datasets import fetch_20newsgroups\n",
    "from sklearn.feature_extraction.text import TfidfVectorizer\n",
    "import numpy as np\n",
    "import matplotlib.pyplot as plt\n",
    "from tqdm import tqdm"
   ]
  },
  {
   "cell_type": "code",
   "execution_count": null,
   "metadata": {},
   "outputs": [],
   "source": [
    "from core import ActiveLearner, Dataset, Oracle\n",
    "from sklearn.naive_bayes import MultinomialNB\n",
    "from querys import CertaintySelector, UncertaintySelector, RandomSelector, MinDiffSelector, EntropySelector"
   ]
  },
  {
   "cell_type": "code",
   "execution_count": null,
   "metadata": {},
   "outputs": [],
   "source": [
    "def get_n_each_category(dataset, n):\n",
    "    train = []\n",
    "    for cat in range(len(dataset.target_names)):\n",
    "        count = 0\n",
    "        i = 0\n",
    "        while count < n and i < len(dataset.target):\n",
    "            if dataset.target[i] == cat:\n",
    "                train.append(i)\n",
    "                count += 1\n",
    "            i += 1\n",
    "    train.sort()\n",
    "    return train"
   ]
  },
  {
   "cell_type": "code",
   "execution_count": null,
   "metadata": {},
   "outputs": [],
   "source": [
    "def remove_from_dataset(dataset, i):\n",
    "    del dataset.data[i]\n",
    "    dataset.target = np.delete(dataset.target, i)\n",
    "    dataset.filenames = np.delete(dataset.filenames, i)\n",
    "    return dataset"
   ]
  },
  {
   "cell_type": "code",
   "execution_count": null,
   "metadata": {},
   "outputs": [],
   "source": [
    "def remove_many_from_dataset(dataset, indices):\n",
    "    for i, index in enumerate(indices):\n",
    "        dataset = remove_from_dataset(dataset, index-i)\n",
    "    return dataset"
   ]
  },
  {
   "cell_type": "code",
   "execution_count": null,
   "metadata": {},
   "outputs": [],
   "source": [
    "def split_train_data(dataset, train_indices):\n",
    "    train_data = []\n",
    "    train_target = []\n",
    "    for i in train_indices:\n",
    "        train_data.append(dataset.data[i])\n",
    "        train_target.append(dataset.target[i])\n",
    "    dataset = remove_many_from_dataset(dataset, train_indices)\n",
    "    return dataset, train_data, train_target"
   ]
  },
  {
   "cell_type": "code",
   "execution_count": null,
   "metadata": {},
   "outputs": [],
   "source": [
    "def clean_dataset(dataset):\n",
    "    chars = set(\"abcdefghijklmnopqrstuvwxyz\")\n",
    "    to_remove = []\n",
    "    for i in range(len(dataset.data)):\n",
    "        dataset.data[i] = dataset.data[i].strip()\n",
    "        dataset.data[i] = dataset.data[i].lower()\n",
    "        if len(dataset.data[i]) == 0:\n",
    "            to_remove.append(i)\n",
    "        if not any((c in chars) for c in dataset.data[i]):\n",
    "            to_remove.append(i)\n",
    "    \n",
    "    return remove_many_from_dataset(dataset, to_remove)"
   ]
  },
  {
   "cell_type": "code",
   "execution_count": null,
   "metadata": {},
   "outputs": [],
   "source": [
    "categories = [\n",
    "    'alt.atheism',\n",
    "    'comp.graphics',\n",
    "#    'comp.os.ms-windows.misc',\n",
    "#    'comp.sys.ibm.pc.hardware',\n",
    "#    'comp.sys.mac.hardware',\n",
    "#    'comp.windows.x',\n",
    "#    'misc.forsale',\n",
    "#    'rec.autos',\n",
    "#    'rec.motorcycles',\n",
    "#    'rec.sport.baseball',\n",
    "#    'rec.sport.hockey',\n",
    "#    'sci.crypt',\n",
    "#    'sci.electronics',\n",
    "#    'sci.med',\n",
    "    'sci.space',\n",
    "#    'soc.religion.christian',\n",
    "#    'talk.politics.guns',\n",
    "#    'talk.politics.mideast',\n",
    "#    'talk.politics.misc',\n",
    "    'talk.religion.misc',\n",
    "]"
   ]
  },
  {
   "cell_type": "code",
   "execution_count": null,
   "metadata": {},
   "outputs": [],
   "source": [
    "dataset = fetch_20newsgroups(subset='train', remove=('headers', 'footers', 'quotes'))#, categories=categories)"
   ]
  },
  {
   "cell_type": "code",
   "execution_count": null,
   "metadata": {},
   "outputs": [],
   "source": [
    "dataset = clean_dataset(dataset)"
   ]
  },
  {
   "cell_type": "code",
   "execution_count": null,
   "metadata": {},
   "outputs": [],
   "source": [
    "train_indices = get_n_each_category(dataset, 25)\n",
    "dataset, train_data, train_target = split_train_data(dataset, train_indices)"
   ]
  },
  {
   "cell_type": "code",
   "execution_count": null,
   "metadata": {},
   "outputs": [],
   "source": [
    "test_dataset = fetch_20newsgroups(subset='test', remove=('headers', 'footers', 'quotes'))#, categories=categories)\n",
    "test_data = test_dataset.data\n",
    "test_target = test_dataset.target"
   ]
  },
  {
   "cell_type": "markdown",
   "metadata": {},
   "source": [
    "## Obtengo los features TF-IDF"
   ]
  },
  {
   "cell_type": "code",
   "execution_count": null,
   "metadata": {},
   "outputs": [],
   "source": [
    "vectorizer = TfidfVectorizer()\n",
    "X_train = vectorizer.fit_transform(train_data)\n",
    "X_unlabeled = vectorizer.transform(dataset.data)\n",
    "X_test = vectorizer.transform(test_data)"
   ]
  },
  {
   "cell_type": "markdown",
   "metadata": {},
   "source": [
    "## Instancio lo minimo necesario para el framework"
   ]
  },
  {
   "cell_type": "code",
   "execution_count": null,
   "metadata": {},
   "outputs": [],
   "source": [
    "class NGDataset(Dataset):\n",
    "    dataset = dataset\n",
    "    \n",
    "    def get_unlabeled_readable(self, i):\n",
    "        #return self.dataset.data[i]\n",
    "        return self.dataset.target[i]\n",
    "\n",
    "\n",
    "class NewsGroupOracle(Oracle):\n",
    "    target_names = dataset.target_names\n",
    "    \n",
    "    def ask(self, X_readable, recoms):\n",
    "        return X_readable"
   ]
  },
  {
   "cell_type": "code",
   "execution_count": null,
   "metadata": {},
   "outputs": [],
   "source": [
    "selectors = [UncertaintySelector, CertaintySelector, MinDiffSelector, EntropySelector, RandomSelector, RandomSelector, RandomSelector]"
   ]
  },
  {
   "cell_type": "code",
   "execution_count": null,
   "metadata": {},
   "outputs": [],
   "source": [
    "selector_scores = []\n",
    "for selector in selectors:\n",
    "    y_train = np.array(train_target)\n",
    "    ngdataset = NGDataset(X_train, y_train, X_unlabeled)\n",
    "\n",
    "    model = MultinomialNB(alpha=.01)\n",
    "    oracle = NewsGroupOracle()\n",
    "    al = ActiveLearner(model, ngdataset, selector, oracle)\n",
    "    scores = []\n",
    "\n",
    "    al.fit()\n",
    "    scores.append(al.model.score(X_test, test_target))\n",
    "\n",
    "    for _ in tqdm(range(40)):\n",
    "        selected = al.select(10)\n",
    "        y = al.ask(selected)\n",
    "        al.tag_elements(selected, y)\n",
    "        al.fit()\n",
    "        scores.append(al.model.score(X_test, test_target))\n",
    "    \n",
    "    selector_scores.append(scores)"
   ]
  },
  {
   "cell_type": "code",
   "execution_count": null,
   "metadata": {},
   "outputs": [],
   "source": [
    "plt.figure(figsize=(20,10))\n",
    "plt.title('Comparación de selectores')\n",
    "plt.xlabel('Iteraciones')\n",
    "plt.ylabel('Precision')\n",
    "plt.plot(selector_scores[0])\n",
    "plt.plot(selector_scores[1])\n",
    "plt.plot(selector_scores[2])\n",
    "plt.plot(selector_scores[3])\n",
    "plt.plot(selector_scores[4])\n",
    "plt.plot(selector_scores[5])\n",
    "plt.plot(selector_scores[6])\n",
    "plt.legend(['Uncertainty', 'Certainty', 'MinDiff', 'Entropy', 'Random', 'Random', 'Random'])\n",
    "#plt.savefig('nose')\n",
    "plt.show()"
   ]
  },
  {
   "cell_type": "code",
   "execution_count": null,
   "metadata": {},
   "outputs": [],
   "source": []
  }
 ],
 "metadata": {
  "kernelspec": {
   "display_name": "tesis",
   "language": "python",
   "name": "tesis"
  },
  "language_info": {
   "codemirror_mode": {
    "name": "ipython",
    "version": 3
   },
   "file_extension": ".py",
   "mimetype": "text/x-python",
   "name": "python",
   "nbconvert_exporter": "python",
   "pygments_lexer": "ipython3",
   "version": "3.6.6rc1"
  }
 },
 "nbformat": 4,
 "nbformat_minor": 2
}
